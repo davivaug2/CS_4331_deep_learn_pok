{
  "nbformat": 4,
  "nbformat_minor": 0,
  "metadata": {
    "colab": {
      "provenance": [],
      "authorship_tag": "ABX9TyO2c4kg40jkEdV8SKqWD+Ve",
      "include_colab_link": true
    },
    "kernelspec": {
      "name": "python3",
      "display_name": "Python 3"
    },
    "language_info": {
      "name": "python"
    }
  },
  "cells": [
    {
      "cell_type": "markdown",
      "metadata": {
        "id": "view-in-github",
        "colab_type": "text"
      },
      "source": [
        "<a href=\"https://colab.research.google.com/github/davivaug2/CS_4331_deep_learn_pok/blob/main/deep_learn_assigment1_pok.ipynb\" target=\"_parent\"><img src=\"https://colab.research.google.com/assets/colab-badge.svg\" alt=\"Open In Colab\"/></a>"
      ]
    },
    {
      "cell_type": "markdown",
      "source": [
        "# Team 3 Joker\n",
        "* Cameron Alonzo\n",
        "* Jase Bradley\n",
        "* Jacob Kintigh\n",
        "* David Vaughan\n"
      ],
      "metadata": {
        "id": "eFUzUYBd69l3"
      }
    },
    {
      "cell_type": "markdown",
      "source": [
        "# Deep Learning Problem\n",
        "\n",
        "* Description and Importance\n",
        "* Description and Importance\n",
        "* ..."
      ],
      "metadata": {
        "id": "3vn9ScB-1N-U"
      }
    },
    {
      "cell_type": "markdown",
      "source": [
        "# Overview of Past and Current Solution Ideas"
      ],
      "metadata": {
        "id": "b22NiLJw5Oqf"
      }
    },
    {
      "cell_type": "markdown",
      "source": [
        "## State-of-the-Art Solutions\n",
        "\n",
        "* Solution 1\n",
        "* Solution 2\n",
        "* ..."
      ],
      "metadata": {
        "id": "0e68bfdy5Qkc"
      }
    },
    {
      "cell_type": "markdown",
      "source": [
        "## Solution Ideas from Journal and Conference Papers\n",
        "\n",
        "* Solution Idea 1\n",
        "* Solution Idea 2\n",
        "* ..."
      ],
      "metadata": {
        "id": "UhQ1clJj5SsM"
      }
    },
    {
      "cell_type": "markdown",
      "source": [
        "## Solution Ideas Helpful to the Team\n",
        "\n",
        "* Solution Idea 1\n",
        "* Solution Idea 2\n",
        "* ..."
      ],
      "metadata": {
        "id": "xJ3PpM6R5VOU"
      }
    },
    {
      "cell_type": "markdown",
      "source": [
        "# New Solution Ideas\n",
        "\n",
        "* New Idea 1 and Justification\n",
        "* New Idea 2 and Justification\n",
        "* ..."
      ],
      "metadata": {
        "id": "oDL9Vvia5XjF"
      }
    },
    {
      "cell_type": "markdown",
      "source": [
        "# Hardware, Software, and Data Needs\n"
      ],
      "metadata": {
        "id": "RczTuKMs5Zz8"
      }
    },
    {
      "cell_type": "markdown",
      "source": [
        "## Hardware Needs\n",
        "* Moderately Poweful PC\n",
        "*  Nvidia GPU\n",
        "* Can always use HPCC for more GPU's"
      ],
      "metadata": {
        "id": "5ajR-AZ37Qqg"
      }
    },
    {
      "cell_type": "markdown",
      "source": [
        "## Software Needs\n",
        "\n",
        "* Python 3\n",
        "* Tensorflow\n",
        "* Google Colab for group editing\n",
        "* Github for version control\n",
        "* ...\n"
      ],
      "metadata": {
        "id": "k3iwXiqe7T0A"
      }
    },
    {
      "cell_type": "markdown",
      "source": [
        "## Data Needs\n",
        "\n",
        "* Data Need 1\n",
        "* Data Need 2\n",
        "* ..."
      ],
      "metadata": {
        "id": "nmyUdF3y5fYQ"
      }
    },
    {
      "cell_type": "markdown",
      "source": [
        "# Work Planned to be Accomplished in the Next Submission\n",
        "\n",
        "<table>\n",
        "  <tr>\n",
        "    <th>Team Member Name</th>\n",
        "    <th>Team Member Tasks</th>\n",
        "  </tr>\n",
        "  <tr>\n",
        "    <td>David Vaughan</td>\n",
        "    <td>\n",
        "        <ul>\n",
        "            <li>Task</li>\n",
        "            <li>Task</li>\n",
        "        </ul>\n",
        "    </td>\n",
        "  </tr>\n",
        "  <tr>\n",
        "    <td>Jacob Kintigh</td>\n",
        "    <td>\n",
        "        <ul>\n",
        "            <li>Task</li>\n",
        "            <li>Task</li>\n",
        "        </ul>\n",
        "    </td>\n",
        "  </tr>\n",
        "  <tr>\n",
        "    <td>Jase Bradley</td>\n",
        "    <td>\n",
        "        <ul>\n",
        "            <li>Task</li>\n",
        "            <li>Task</li>\n",
        "        </ul>\n",
        "    </td>\n",
        "  </tr>\n",
        "  <tr>\n",
        "    <td>Cameron Alonzo</td>\n",
        "    <td>\n",
        "        <ul>\n",
        "            <li>Task</li>\n",
        "            <li>Task</li>\n",
        "        </ul>\n",
        "    </td>\n",
        "  </tr>\n",
        "</table>"
      ],
      "metadata": {
        "id": "UIqLHVeH8PWu"
      }
    },
    {
      "cell_type": "markdown",
      "source": [
        "# Team Report\n",
        "\n",
        "<table>\n",
        "  <tr>\n",
        "    <th>Team Member Name</th>\n",
        "    <th>Team Member Accomplishments</th>\n",
        "  </tr>\n",
        "  <tr>\n",
        "    <td>David Vaughan</td>\n",
        "    <td>\n",
        "        <ul>\n",
        "            <li>Accomplishment</li>\n",
        "            <li>Accomplishment</li>\n",
        "        </ul>\n",
        "    </td>\n",
        "  </tr>\n",
        "  <tr>\n",
        "    <td>Jacob Kintigh</td>\n",
        "    <td>\n",
        "        <ul>\n",
        "            <li>Accomplishment</li>\n",
        "            <li>Accomplishment</li>\n",
        "        </ul>\n",
        "    </td>\n",
        "  </tr>\n",
        "  <tr>\n",
        "    <td>Jase Bradley</td>\n",
        "    <td>\n",
        "        <ul>\n",
        "            <li>Accomplishment</li>\n",
        "            <li>Accomplishment</li>\n",
        "        </ul>\n",
        "    </td>\n",
        "  </tr>\n",
        "  <tr>\n",
        "    <td>Cameron Alonzo</td>\n",
        "    <td>\n",
        "        <ul>\n",
        "            <li>Accomplishment</li>\n",
        "            <li>Accomplishment</li>\n",
        "        </ul>\n",
        "    </td>\n",
        "  </tr>\n",
        "</table>"
      ],
      "metadata": {
        "id": "srASOXRV7qnS"
      }
    },
    {
      "cell_type": "markdown",
      "source": [
        "# Appendix"
      ],
      "metadata": {
        "id": "j8D0dfqg5lF3"
      }
    },
    {
      "cell_type": "markdown",
      "source": [
        "## Reference List\n",
        "\n",
        "* Reference 1\n",
        "* Reference 2"
      ],
      "metadata": {
        "id": "f1ymrBZJ5m71"
      }
    },
    {
      "cell_type": "markdown",
      "source": [
        "## Other Material\n",
        "\n",
        "* Other Material 1\n",
        "* Other Material 2\n",
        "* ..."
      ],
      "metadata": {
        "id": "W7votkGe5oaH"
      }
    }
  ]
}